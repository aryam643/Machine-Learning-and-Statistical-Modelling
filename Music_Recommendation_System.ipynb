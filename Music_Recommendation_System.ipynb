{
  "nbformat": 4,
  "nbformat_minor": 0,
  "metadata": {
    "colab": {
      "provenance": []
    },
    "kernelspec": {
      "name": "python3",
      "display_name": "Python 3"
    },
    "language_info": {
      "name": "python"
    }
  },
  "cells": [
    {
      "cell_type": "code",
      "execution_count": 1,
      "metadata": {
        "colab": {
          "base_uri": "https://localhost:8080/",
          "height": 0
        },
        "id": "N45dhhfcu8X1",
        "outputId": "a16ddcdd-190d-4f9d-beab-fd057b47b40c"
      },
      "outputs": [
        {
          "output_type": "stream",
          "name": "stdout",
          "text": [
            "Access token obtained successfully.\n"
          ]
        }
      ],
      "source": [
        "import requests\n",
        "import base64\n",
        "\n",
        "#Client ID and Client Secret\n",
        "CLIENT_ID = '71b770095e3e40339eadf6d6f17d9483'\n",
        "CLIENT_SECRET = '4eeaad9cb3334601a9438ba424b00ccb'\n",
        "\n",
        "# Base64 encode the client ID and client secret\n",
        "client_credentials = f\"{CLIENT_ID}:{CLIENT_SECRET}\"\n",
        "client_credentials_base64 = base64.b64encode(client_credentials.encode())\n",
        "\n",
        "# Request the access token\n",
        "token_url = 'https://accounts.spotify.com/api/token'\n",
        "headers = {\n",
        "    'Authorization': f'Basic {client_credentials_base64.decode()}'\n",
        "}\n",
        "data = {\n",
        "    'grant_type': 'client_credentials'\n",
        "}\n",
        "response = requests.post(token_url, data=data, headers=headers)\n",
        "\n",
        "if response.status_code == 200:\n",
        "    access_token = response.json()['access_token']\n",
        "    print(\"Access token obtained successfully.\")\n",
        "else:\n",
        "    print(\"Error obtaining access token.\")\n",
        "    exit()"
      ]
    },
    {
      "cell_type": "markdown",
      "source": [
        "**Installing Spotipy**"
      ],
      "metadata": {
        "id": "ATPMmuSQxrsp"
      }
    },
    {
      "cell_type": "code",
      "source": [
        "!pip install spotipy"
      ],
      "metadata": {
        "colab": {
          "base_uri": "https://localhost:8080/",
          "height": 0
        },
        "id": "ztIN3V56xpV7",
        "outputId": "0756098c-82fe-4db0-a4a3-82936e7a862c"
      },
      "execution_count": 2,
      "outputs": [
        {
          "output_type": "stream",
          "name": "stdout",
          "text": [
            "Collecting spotipy\n",
            "  Downloading spotipy-2.24.0-py3-none-any.whl (30 kB)\n",
            "Collecting redis>=3.5.3 (from spotipy)\n",
            "  Downloading redis-5.0.7-py3-none-any.whl (252 kB)\n",
            "\u001b[2K     \u001b[90m━━━━━━━━━━━━━━━━━━━━━━━━━━━━━━━━━━━━━━━━\u001b[0m \u001b[32m252.1/252.1 kB\u001b[0m \u001b[31m5.2 MB/s\u001b[0m eta \u001b[36m0:00:00\u001b[0m\n",
            "\u001b[?25hRequirement already satisfied: requests>=2.25.0 in /usr/local/lib/python3.10/dist-packages (from spotipy) (2.31.0)\n",
            "Requirement already satisfied: urllib3>=1.26.0 in /usr/local/lib/python3.10/dist-packages (from spotipy) (2.0.7)\n",
            "Requirement already satisfied: async-timeout>=4.0.3 in /usr/local/lib/python3.10/dist-packages (from redis>=3.5.3->spotipy) (4.0.3)\n",
            "Requirement already satisfied: charset-normalizer<4,>=2 in /usr/local/lib/python3.10/dist-packages (from requests>=2.25.0->spotipy) (3.3.2)\n",
            "Requirement already satisfied: idna<4,>=2.5 in /usr/local/lib/python3.10/dist-packages (from requests>=2.25.0->spotipy) (3.7)\n",
            "Requirement already satisfied: certifi>=2017.4.17 in /usr/local/lib/python3.10/dist-packages (from requests>=2.25.0->spotipy) (2024.6.2)\n",
            "Installing collected packages: redis, spotipy\n",
            "Successfully installed redis-5.0.7 spotipy-2.24.0\n"
          ]
        }
      ]
    },
    {
      "cell_type": "code",
      "source": [
        "import pandas as pd\n",
        "import spotipy\n",
        "from spotipy.oauth2 import SpotifyOAuth\n",
        "\n",
        "def get_trending_playlist_data(playlist_id, access_token):\n",
        "    # Set up Spotipy with the access token\n",
        "    sp = spotipy.Spotify(auth=access_token)\n",
        "\n",
        "    # Get the tracks from the playlist\n",
        "    playlist_tracks = sp.playlist_tracks(playlist_id, fields='items(track(id, name, artists, album(id, name)))')\n",
        "\n",
        "    # Extract relevant information and store in a list of dictionaries\n",
        "    music_data = []\n",
        "    for track_info in playlist_tracks['items']:\n",
        "        track = track_info['track']\n",
        "        track_name = track['name']\n",
        "        artists = ', '.join([artist['name'] for artist in track['artists']])\n",
        "        album_name = track['album']['name']\n",
        "        album_id = track['album']['id']\n",
        "        track_id = track['id']\n",
        "\n",
        "        # Get audio features for the track\n",
        "        audio_features = sp.audio_features(track_id)[0] if track_id != 'Not available' else None\n",
        "\n",
        "        # Get release date of the album\n",
        "        try:\n",
        "            album_info = sp.album(album_id) if album_id != 'Not available' else None\n",
        "            release_date = album_info['release_date'] if album_info else None\n",
        "        except:\n",
        "            release_date = None\n",
        "\n",
        "        # Get popularity of the track\n",
        "        try:\n",
        "            track_info = sp.track(track_id) if track_id != 'Not available' else None\n",
        "            popularity = track_info['popularity'] if track_info else None\n",
        "        except:\n",
        "            popularity = None\n",
        "\n",
        "        # Add additional track information to the track data\n",
        "        track_data = {\n",
        "            'Track Name': track_name,\n",
        "            'Artists': artists,\n",
        "            'Album Name': album_name,\n",
        "            'Album ID': album_id,\n",
        "            'Track ID': track_id,\n",
        "            'Popularity': popularity,\n",
        "            'Release Date': release_date,\n",
        "            'Duration (ms)': audio_features['duration_ms'] if audio_features else None,\n",
        "            'Explicit': track_info.get('explicit', None),\n",
        "            'External URLs': track_info.get('external_urls', {}).get('spotify', None),\n",
        "            'Danceability': audio_features['danceability'] if audio_features else None,\n",
        "            'Energy': audio_features['energy'] if audio_features else None,\n",
        "            'Key': audio_features['key'] if audio_features else None,\n",
        "            'Loudness': audio_features['loudness'] if audio_features else None,\n",
        "            'Mode': audio_features['mode'] if audio_features else None,\n",
        "            'Speechiness': audio_features['speechiness'] if audio_features else None,\n",
        "            'Acousticness': audio_features['acousticness'] if audio_features else None,\n",
        "            'Instrumentalness': audio_features['instrumentalness'] if audio_features else None,\n",
        "            'Liveness': audio_features['liveness'] if audio_features else None,\n",
        "            'Valence': audio_features['valence'] if audio_features else None,\n",
        "            'Tempo': audio_features['tempo'] if audio_features else None,\n",
        "            # Add more attributes as needed\n",
        "        }\n",
        "\n",
        "        music_data.append(track_data)\n",
        "\n",
        "    # Create a pandas DataFrame from the list of dictionaries\n",
        "    df = pd.DataFrame(music_data)\n",
        "\n",
        "    return df"
      ],
      "metadata": {
        "id": "E9BozcKLxwg6"
      },
      "execution_count": 3,
      "outputs": []
    },
    {
      "cell_type": "code",
      "source": [
        "playlist_id = '37i9dQZF1DWZNJXX2UeBij'\n",
        "\n",
        "# Call the function to get the music data from the playlist and store it in a DataFrame\n",
        "music_df = get_trending_playlist_data(playlist_id, access_token)\n",
        "\n",
        "# Display the DataFrame\n",
        "print(music_df)"
      ],
      "metadata": {
        "colab": {
          "base_uri": "https://localhost:8080/"
        },
        "id": "7SCLutw2x1F5",
        "outputId": "cafa4520-13d4-461d-fd9a-3a10d78ccc3a"
      },
      "execution_count": 19,
      "outputs": [
        {
          "output_type": "stream",
          "name": "stdout",
          "text": [
            "              Track Name                                            Artists  \\\n",
            "0                Zara Sa                                         Pritam, KK   \n",
            "1            Ye Ishq Hai                             Pritam, Shreya Ghoshal   \n",
            "2      Kabhi Kabhi Aditi                                         Rashid Ali   \n",
            "3              O Re Piya  Salim–Sulaiman, Rahat Fateh Ali Khan, Jaideep ...   \n",
            "4           Chor Bazaari           Neeraj Shridhar, Sunidhi Chauhan, Pritam   \n",
            "..                   ...                                                ...   \n",
            "95           Aaj Ki Raat        Alisha Chinai, Mahalakshmi Iyer, Sonu Nigam   \n",
            "96     Mehbooba Mehbooba                        Adnan Sami, Sunidhi Chauhan   \n",
            "97             Aai Paapi                            Neeraj Shridhar, Pritam   \n",
            "98  Dil Mein Baji Guitar                                 Mika Singh, Pritam   \n",
            "99         Mast Kalandar  Saleem Shahzada, Rehan Khan, Shankar Mahadevan...   \n",
            "\n",
            "                                           Album Name                Album ID  \\\n",
            "0         Jannat (Original Motion Picture Soundtrack)  153Qw0xXJqhEFxvm9M9rE8   \n",
            "1                                          Jab We Met  4OYdTHNgjhXzgVjbqsb0tO   \n",
            "2                             Jaane Tu... Ya Jaane Na  7J5iE51Mk97Mf0BjjwYXUZ   \n",
            "3                                         Aaja Nachle  4ONIL6w6cUj2ArNYM6V4CL   \n",
            "4   Love Aaj Kal (Original Motion Picture Soundtrack)  2yoQE2XBnwdUyoOkoprTfT   \n",
            "..                                                ...                     ...   \n",
            "95                                                Don  6TeyEvfuNNKYhRZpJt9BZm   \n",
            "96       Ajnabee (Original Motion Picture Soundtrack)  5Dl27jn4TLxq4rQ8Kphquc   \n",
            "97  Kismat Konnection (Original Motion Picture Sou...  61cQuizKixGgQTi0Le6M8N   \n",
            "98  Apna Sapna Money Money (Original Motion Pictur...  6T8wuRH8VlddclFhhZvsDb   \n",
            "99                                         Heyy Babyy  6wmAbHvVXPP8IABlogT5Sz   \n",
            "\n",
            "                  Track ID  Popularity Release Date  Duration (ms)  Explicit  \\\n",
            "0   18YHbIhrleUkKKj2DvEp79          70   2008-03-07         303680     False   \n",
            "1   4BiPsAV070dg3eLSVf727A          64   2007-09-21         280974     False   \n",
            "2   3APdIdF8H0jsxSuGOqXedS          69   2008-05-21         218836     False   \n",
            "3   7cWnks0lsRtpAi87COOiXK          68   2007-10-18         379768     False   \n",
            "4   4gqHEia13bp5EFWGitiKWx          62   2009-07-31         257440     False   \n",
            "..                     ...         ...          ...            ...       ...   \n",
            "95  4bPF3oy4JsKK1UeMMn7Byf          53   2006-08-31         368480     False   \n",
            "96  4Tt6aPhCnVPA9tFrK7E0Mx          53   2001-09-21         447000     False   \n",
            "97  7Bw56mGeOVbBBWBSLg356s          53   2008-07-18         260053     False   \n",
            "98  67VHAZo2eUry9rcCeTGlhs          53   2006-11-10         264786     False   \n",
            "99  3V3qab2wyi5LjGLjvbV4fD          52   2007-07-17         345788     False   \n",
            "\n",
            "                                        External URLs  ...  Energy  Key  \\\n",
            "0   https://open.spotify.com/track/18YHbIhrleUkKKj...  ...   0.910   11   \n",
            "1   https://open.spotify.com/track/4BiPsAV070dg3eL...  ...   0.638    5   \n",
            "2   https://open.spotify.com/track/3APdIdF8H0jsxSu...  ...   0.558    7   \n",
            "3   https://open.spotify.com/track/7cWnks0lsRtpAi8...  ...   0.532   11   \n",
            "4   https://open.spotify.com/track/4gqHEia13bp5EFW...  ...   0.754   11   \n",
            "..                                                ...  ...     ...  ...   \n",
            "95  https://open.spotify.com/track/4bPF3oy4JsKK1Ue...  ...   0.823    1   \n",
            "96  https://open.spotify.com/track/4Tt6aPhCnVPA9tF...  ...   0.908   11   \n",
            "97  https://open.spotify.com/track/7Bw56mGeOVbBBWB...  ...   0.952    9   \n",
            "98  https://open.spotify.com/track/67VHAZo2eUry9rc...  ...   0.926    7   \n",
            "99  https://open.spotify.com/track/3V3qab2wyi5LjGL...  ...   0.896    1   \n",
            "\n",
            "    Loudness  Mode  Speechiness  Acousticness  Instrumentalness  Liveness  \\\n",
            "0     -3.057     0       0.0510       0.12000          0.000304    0.2710   \n",
            "1     -7.126     0       0.1590       0.43400          0.000002    0.2550   \n",
            "2     -7.155     0       0.0661       0.27600          0.000000    0.0859   \n",
            "3     -8.837     0       0.0328       0.77900          0.000565    0.1240   \n",
            "4     -5.030     1       0.0706       0.38600          0.000142    0.1310   \n",
            "..       ...   ...          ...           ...               ...       ...   \n",
            "95    -6.966     0       0.0658       0.00992          0.006270    0.0871   \n",
            "96    -7.526     0       0.2080       0.06690          0.000000    0.0762   \n",
            "97    -6.429     1       0.0566       0.12100          0.001820    0.0441   \n",
            "98    -6.165     1       0.1550       0.50600          0.013700    0.0850   \n",
            "99    -5.983     0       0.0474       0.07730          0.003640    0.1920   \n",
            "\n",
            "    Valence    Tempo  \n",
            "0     0.694  163.842  \n",
            "1     0.882  118.045  \n",
            "2     0.872   95.077  \n",
            "3     0.494   99.994  \n",
            "4     0.973  100.014  \n",
            "..      ...      ...  \n",
            "95    0.923  137.000  \n",
            "96    0.346   91.728  \n",
            "97    0.797  109.972  \n",
            "98    0.704  135.950  \n",
            "99    0.790  104.013  \n",
            "\n",
            "[100 rows x 21 columns]\n"
          ]
        }
      ]
    },
    {
      "cell_type": "code",
      "source": [
        "print(music_df.isnull().sum())"
      ],
      "metadata": {
        "colab": {
          "base_uri": "https://localhost:8080/"
        },
        "id": "1DbfuodeyVf1",
        "outputId": "4438ce3f-6895-470e-cbf5-d36d2333d3b8"
      },
      "execution_count": 20,
      "outputs": [
        {
          "output_type": "stream",
          "name": "stdout",
          "text": [
            "Track Name          0\n",
            "Artists             0\n",
            "Album Name          0\n",
            "Album ID            0\n",
            "Track ID            0\n",
            "Popularity          0\n",
            "Release Date        0\n",
            "Duration (ms)       0\n",
            "Explicit            0\n",
            "External URLs       0\n",
            "Danceability        0\n",
            "Energy              0\n",
            "Key                 0\n",
            "Loudness            0\n",
            "Mode                0\n",
            "Speechiness         0\n",
            "Acousticness        0\n",
            "Instrumentalness    0\n",
            "Liveness            0\n",
            "Valence             0\n",
            "Tempo               0\n",
            "dtype: int64\n"
          ]
        }
      ]
    },
    {
      "cell_type": "code",
      "source": [
        "import pandas as pd\n",
        "import numpy as np\n",
        "from sklearn.model_selection import train_test_split\n",
        "from sklearn.preprocessing import MinMaxScaler\n",
        "from datetime import datetime\n",
        "from sklearn.metrics.pairwise import cosine_similarity\n",
        "\n",
        "data = music_df"
      ],
      "metadata": {
        "id": "49GFDhrJybB6"
      },
      "execution_count": 21,
      "outputs": []
    },
    {
      "cell_type": "code",
      "source": [
        "# Function to calculate weighted popularity scores based on release date\n",
        "def calculate_weighted_popularity(release_date):\n",
        "    # Convert the release date to datetime object\n",
        "    release_date = datetime.strptime(release_date, '%Y-%m-%d')\n",
        "\n",
        "    # Calculate the time span between release date and today's date\n",
        "    time_span = datetime.now() - release_date\n",
        "\n",
        "    # Calculate the weighted popularity score based on time span (e.g., more recent releases have higher weight)\n",
        "    weight = 1 / (time_span.days + 1)\n",
        "    return weight"
      ],
      "metadata": {
        "id": "e_KuWqA9yeGa"
      },
      "execution_count": 8,
      "outputs": []
    },
    {
      "cell_type": "code",
      "source": [
        "# Normalize the music features using Min-Max scaling\n",
        "scaler = MinMaxScaler()\n",
        "music_features = music_df[['Danceability', 'Energy', 'Key',\n",
        "                           'Loudness', 'Mode', 'Speechiness', 'Acousticness',\n",
        "                           'Instrumentalness', 'Liveness', 'Valence', 'Tempo']].values\n",
        "music_features_scaled = scaler.fit_transform(music_features)"
      ],
      "metadata": {
        "id": "dNnmI--wygiE"
      },
      "execution_count": 22,
      "outputs": []
    },
    {
      "cell_type": "markdown",
      "source": [
        "**Reccomendation Based ON mUsic Audio**"
      ],
      "metadata": {
        "id": "U36MdN67yn3T"
      }
    },
    {
      "cell_type": "code",
      "source": [
        "# a function to get content-based recommendations based on music features\n",
        "def content_based_recommendations(input_song_name, num_recommendations=5):\n",
        "    if input_song_name not in music_df['Track Name'].values:\n",
        "        print(f\"'{input_song_name}' not found in the dataset. Please enter a valid song name.\")\n",
        "        return\n",
        "\n",
        "    # Get the index of the input song in the music DataFrame\n",
        "    input_song_index = music_df[music_df['Track Name'] == input_song_name].index[0]\n",
        "\n",
        "    # Calculate the similarity scores based on music features (cosine similarity)\n",
        "    similarity_scores = cosine_similarity([music_features_scaled[input_song_index]], music_features_scaled)\n",
        "\n",
        "    # Get the indices of the most similar songs\n",
        "    similar_song_indices = similarity_scores.argsort()[0][::-1][1:num_recommendations + 1]\n",
        "\n",
        "    # Get the names of the most similar songs based on content-based filtering\n",
        "    content_based_recommendations = music_df.iloc[similar_song_indices][['Track Name', 'Artists', 'Album Name', 'Release Date', 'Popularity']]\n",
        "\n",
        "    return content_based_recommendations"
      ],
      "metadata": {
        "id": "4jNtxsquyr-M"
      },
      "execution_count": 23,
      "outputs": []
    },
    {
      "cell_type": "code",
      "source": [
        "def hybrid_recommendations(input_song_name, num_recommendations=5, alpha=0.5):\n",
        "    if input_song_name not in music_df['Track Name'].values:\n",
        "        print(f\"'{input_song_name}' not found in the dataset. Please enter a valid song name.\")\n",
        "        return pd.DataFrame()\n",
        "    content_based_rec = content_based_recommendations(input_song_name, num_recommendations)\n",
        "    popularity_score = music_df.loc[music_df['Track Name'] == input_song_name, 'Popularity'].values[0]\n",
        "    weighted_popularity_score = popularity_score * calculate_weighted_popularity(music_df.loc[music_df['Track Name'] == input_song_name, 'Release Date'].values[0])\n",
        "    input_song_data = pd.DataFrame([{\n",
        "        'Track Name': input_song_name,\n",
        "        'Artists': music_df.loc[music_df['Track Name'] == input_song_name, 'Artists'].values[0],\n",
        "        'Album Name': music_df.loc[music_df['Track Name'] == input_song_name, 'Album Name'].values[0],\n",
        "        'Release Date': music_df.loc[music_df['Track Name'] == input_song_name, 'Release Date'].values[0],\n",
        "        'Popularity': weighted_popularity_score\n",
        "    }])\n",
        "    hybrid_recommendations = pd.concat([content_based_rec, input_song_data], ignore_index=True)\n",
        "    hybrid_recommendations = hybrid_recommendations.sort_values(by='Popularity', ascending=False)\n",
        "    hybrid_recommendations = hybrid_recommendations[hybrid_recommendations['Track Name'] != input_song_name]\n",
        "    return hybrid_recommendations"
      ],
      "metadata": {
        "id": "t7dT7XJryvG4"
      },
      "execution_count": 24,
      "outputs": []
    },
    {
      "cell_type": "code",
      "source": [
        "input_song_name = \"Zara Sa\"\n",
        "recommendations = hybrid_recommendations(input_song_name, num_recommendations=20)\n",
        "print(f\"Hybrid recommended songs for '{input_song_name}':\")\n",
        "print(recommendations)"
      ],
      "metadata": {
        "colab": {
          "base_uri": "https://localhost:8080/"
        },
        "id": "CEQeKcMAy0rG",
        "outputId": "1383e2a0-d069-4536-8266-ca4e3f98f7a9"
      },
      "execution_count": 25,
      "outputs": [
        {
          "output_type": "stream",
          "name": "stdout",
          "text": [
            "Hybrid recommended songs for 'Zara Sa':\n",
            "                     Track Name  \\\n",
            "18             Pehli Nazar Mein   \n",
            "8                Tu Hi Haqeeqat   \n",
            "11           Tumse Milke Dil Ka   \n",
            "2                      Guzarish   \n",
            "6              Main Yahaan Hoon   \n",
            "4                      Masakali   \n",
            "17                    Desi Girl   \n",
            "14                  Tera Chehra   \n",
            "12  Dil Ne Yeh Kaha Hain Dil Se   \n",
            "9                Jo Bhi Kasmein   \n",
            "19                    Kiya Kiya   \n",
            "5                      Maahi Ve   \n",
            "7              Main Agar Saamne   \n",
            "15                     Chhaliya   \n",
            "1         Hum Pyaar Hai Tumhare   \n",
            "16                  Aaja Nachle   \n",
            "3            Kitni Bechain Hoke   \n",
            "0                  Pretty Woman   \n",
            "13                Bhage Re Mann   \n",
            "10                        Saaki   \n",
            "\n",
            "                                              Artists  \\\n",
            "18                                 Atif Aslam, Pritam   \n",
            "8            Pritam, Javed Ali, Irshan Ashraf, Shadab   \n",
            "11                         Sonu Nigam, Sabri Brothers   \n",
            "2                                           Javed Ali   \n",
            "6             Madan Mohan, Udit Narayan, Javed Akhtar   \n",
            "4                                       Mohit Chauhan   \n",
            "17  Vishal-Shekhar, Shankar Mahadevan, Sunidhi Cha...   \n",
            "14                                         Adnan Sami   \n",
            "12                          Udit Narayan, Alka Yagnik   \n",
            "9                           Alka Yagnik, Udit Narayan   \n",
            "19                     Anand Raj Anand, Shweta Pandit   \n",
            "5   Shankar-Ehsaan-Loy, Sadhana Sargam, Sujata Bha...   \n",
            "7                               Abhijeet, Alka Yagnik   \n",
            "15  Vishal-Shekhar, Sunidhi Chauhan, Piyush Mishra...   \n",
            "1                             Kumar Sanu, Alka Yagnik   \n",
            "16     Salim–Sulaiman, Sunidhi Chauhan, Piyush Mishra   \n",
            "3                           Alka Yagnik, Udit Narayan   \n",
            "0   Shankar-Ehsaan-Loy, Shankar Mahadevan, Ravi \"R...   \n",
            "13                                    Sunidhi Chauhan   \n",
            "10                  Sukhwinder Singh, Sunidhi Chauhan   \n",
            "\n",
            "                                           Album Name Release Date  Popularity  \n",
            "18          Race (Original Motion Picture Soundtrack)   2008-03-21        67.0  \n",
            "8       Tum Mile (Original Motion Picture Soundtrack)   2009-09-08        67.0  \n",
            "11                                       Main Hoon Na   2004-02-27        64.0  \n",
            "2                                             Ghajini   2008-11-25        64.0  \n",
            "6                                        Veer - Zaara   2004-09-18        64.0  \n",
            "4                                             Delhi-6   2009-01-19        63.0  \n",
            "17       Dostana (Original Motion Picture Soundtrack)   2008-10-08        62.0  \n",
            "14                                        Tera Chehra   2002-10-07        60.0  \n",
            "12       Dhadkan (Original Motion Picture Soundtrack)   2000-07-02        60.0  \n",
            "9           Raaz (Original Motion Picture Soundtrack)   2002-02-01        60.0  \n",
            "19                                            Welcome   2007-11-21        60.0  \n",
            "5   Kal Ho Naa Ho (Original Motion Picture Soundtr...   2003-09-20        60.0  \n",
            "7           Raaz (Original Motion Picture Soundtrack)   2002-02-01        59.0  \n",
            "15                                             Tashan   2008-03-27        59.0  \n",
            "1   Haan Maine Bhi Pyaar Kiya (Original Motion Pic...   2002-12-29        58.0  \n",
            "16                                        Aaja Nachle   2007-10-18        58.0  \n",
            "3                                              Kasoor   2001-02-02        58.0  \n",
            "0   Kal Ho Naa Ho (Original Motion Picture Soundtr...   2003-09-20        58.0  \n",
            "13                                            Chameli   2003-11-22        56.0  \n",
            "10                                            Musafir   2004-10-01        53.0  \n"
          ]
        }
      ]
    }
  ]
}